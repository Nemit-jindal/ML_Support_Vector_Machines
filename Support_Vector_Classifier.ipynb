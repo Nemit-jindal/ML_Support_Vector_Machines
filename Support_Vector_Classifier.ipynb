{
  "nbformat": 4,
  "nbformat_minor": 0,
  "metadata": {
    "colab": {
      "provenance": [],
      "authorship_tag": "ABX9TyN8gbCg5BwOM5mGiQAS7E0W",
      "include_colab_link": true
    },
    "kernelspec": {
      "name": "python3",
      "display_name": "Python 3"
    },
    "language_info": {
      "name": "python"
    }
  },
  "cells": [
    {
      "cell_type": "markdown",
      "metadata": {
        "id": "view-in-github",
        "colab_type": "text"
      },
      "source": [
        "<a href=\"https://colab.research.google.com/github/Nemit-jindal/ML_Support_Vector_Machines/blob/main/Support_Vector_Classifier.ipynb\" target=\"_parent\"><img src=\"https://colab.research.google.com/assets/colab-badge.svg\" alt=\"Open In Colab\"/></a>"
      ]
    },
    {
      "cell_type": "code",
      "execution_count": 34,
      "metadata": {
        "id": "e4ywnWMHtYIT"
      },
      "outputs": [],
      "source": [
        "import pandas as pd\n",
        "import numpy as np\n",
        "import seaborn as sns\n",
        "import matplotlib.pyplot as plt\n",
        "\n",
        "import warnings\n",
        "warnings.filterwarnings('ignore')"
      ]
    },
    {
      "cell_type": "code",
      "source": [
        "from sklearn.datasets import make_classification\n",
        "x,y=make_classification(n_samples=1000,n_features=2,n_classes=2,n_clusters_per_class=2,n_redundant=0)"
      ],
      "metadata": {
        "id": "TBO7O-Cdtxs1"
      },
      "execution_count": 35,
      "outputs": []
    },
    {
      "cell_type": "code",
      "source": [
        "x"
      ],
      "metadata": {
        "colab": {
          "base_uri": "https://localhost:8080/"
        },
        "id": "MhpAxvWtuPMu",
        "outputId": "4f85c8dc-83c4-4eae-b964-cf29a46a1594"
      },
      "execution_count": 36,
      "outputs": [
        {
          "output_type": "execute_result",
          "data": {
            "text/plain": [
              "array([[ 0.22728563,  1.70734044],\n",
              "       [ 1.55898124,  0.50184991],\n",
              "       [-0.6123915 , -1.30219455],\n",
              "       ...,\n",
              "       [-0.84714053, -1.22491459],\n",
              "       [-1.23978188,  2.60823046],\n",
              "       [-0.50404367,  2.18076166]])"
            ]
          },
          "metadata": {},
          "execution_count": 36
        }
      ]
    },
    {
      "cell_type": "code",
      "source": [
        "y"
      ],
      "metadata": {
        "colab": {
          "base_uri": "https://localhost:8080/"
        },
        "id": "-jjQ0lXXutjK",
        "outputId": "3ba129ae-182a-4659-9ef4-9338c5b3ea02"
      },
      "execution_count": 37,
      "outputs": [
        {
          "output_type": "execute_result",
          "data": {
            "text/plain": [
              "array([1, 1, 0, 0, 0, 0, 0, 1, 1, 0, 0, 1, 0, 1, 1, 1, 0, 0, 0, 0, 1, 0,\n",
              "       1, 0, 1, 0, 0, 0, 1, 0, 1, 0, 1, 1, 1, 0, 1, 1, 0, 1, 0, 0, 1, 1,\n",
              "       0, 0, 0, 1, 1, 1, 0, 0, 0, 0, 1, 1, 0, 0, 0, 0, 1, 0, 1, 0, 0, 0,\n",
              "       1, 1, 0, 0, 1, 0, 0, 0, 0, 0, 0, 1, 0, 0, 1, 1, 1, 1, 1, 0, 0, 1,\n",
              "       1, 1, 0, 0, 1, 0, 1, 1, 0, 0, 1, 0, 0, 1, 0, 0, 0, 1, 0, 1, 0, 0,\n",
              "       0, 1, 1, 1, 1, 1, 1, 0, 1, 0, 0, 1, 0, 0, 1, 0, 1, 1, 1, 1, 1, 0,\n",
              "       0, 1, 0, 1, 1, 1, 1, 1, 0, 0, 1, 0, 0, 0, 1, 1, 0, 1, 0, 0, 0, 1,\n",
              "       0, 0, 0, 0, 1, 0, 1, 0, 1, 0, 1, 1, 1, 0, 1, 1, 0, 1, 0, 1, 1, 1,\n",
              "       1, 0, 0, 0, 0, 1, 0, 0, 1, 1, 0, 0, 0, 0, 1, 0, 1, 0, 0, 0, 0, 0,\n",
              "       0, 1, 0, 0, 0, 0, 1, 0, 0, 1, 1, 1, 0, 1, 1, 1, 1, 1, 0, 0, 0, 1,\n",
              "       1, 1, 1, 0, 0, 0, 0, 1, 1, 1, 1, 0, 0, 1, 1, 1, 1, 0, 1, 1, 1, 0,\n",
              "       0, 1, 1, 0, 0, 1, 0, 1, 1, 1, 0, 0, 1, 1, 0, 1, 0, 0, 1, 0, 0, 1,\n",
              "       1, 0, 0, 1, 0, 1, 1, 0, 1, 1, 1, 0, 0, 1, 0, 1, 1, 0, 1, 1, 0, 1,\n",
              "       0, 1, 0, 1, 0, 1, 1, 1, 0, 1, 0, 1, 1, 0, 0, 0, 1, 1, 1, 1, 0, 1,\n",
              "       0, 0, 0, 0, 1, 0, 0, 1, 0, 1, 0, 0, 1, 1, 0, 0, 0, 0, 0, 1, 1, 0,\n",
              "       1, 1, 1, 1, 1, 0, 0, 1, 0, 0, 0, 0, 1, 0, 0, 1, 0, 0, 1, 1, 1, 0,\n",
              "       1, 0, 0, 0, 0, 0, 0, 1, 1, 0, 1, 0, 1, 0, 0, 1, 0, 0, 1, 0, 1, 1,\n",
              "       0, 0, 1, 0, 0, 0, 1, 0, 1, 0, 1, 1, 1, 0, 1, 0, 0, 0, 0, 1, 1, 1,\n",
              "       0, 1, 0, 1, 0, 0, 1, 0, 1, 0, 1, 1, 0, 0, 1, 0, 0, 0, 0, 1, 0, 1,\n",
              "       0, 1, 1, 0, 0, 0, 0, 1, 0, 1, 1, 1, 0, 0, 1, 0, 1, 1, 0, 1, 0, 0,\n",
              "       0, 1, 1, 1, 0, 0, 0, 1, 0, 0, 1, 0, 0, 1, 1, 1, 1, 0, 1, 1, 1, 0,\n",
              "       0, 1, 0, 1, 0, 0, 0, 0, 1, 0, 1, 0, 0, 1, 0, 1, 1, 0, 1, 1, 1, 0,\n",
              "       0, 1, 1, 0, 1, 1, 1, 0, 0, 1, 1, 0, 1, 1, 0, 1, 0, 0, 1, 0, 0, 0,\n",
              "       0, 1, 0, 0, 0, 1, 0, 0, 0, 0, 0, 1, 0, 1, 1, 0, 0, 1, 1, 1, 0, 0,\n",
              "       1, 0, 0, 1, 1, 1, 1, 0, 1, 1, 1, 0, 1, 1, 0, 0, 1, 0, 1, 1, 1, 1,\n",
              "       0, 1, 0, 0, 0, 1, 1, 0, 0, 0, 1, 1, 1, 0, 1, 0, 0, 1, 0, 1, 0, 1,\n",
              "       1, 0, 0, 1, 0, 0, 1, 1, 0, 0, 1, 1, 0, 0, 0, 1, 0, 0, 0, 0, 1, 0,\n",
              "       1, 1, 0, 1, 1, 1, 1, 0, 0, 0, 0, 0, 0, 1, 0, 1, 1, 0, 1, 1, 1, 1,\n",
              "       0, 1, 1, 1, 1, 1, 0, 1, 0, 1, 0, 0, 1, 1, 0, 1, 0, 0, 1, 0, 1, 1,\n",
              "       1, 0, 0, 0, 1, 0, 1, 1, 1, 1, 1, 0, 1, 0, 0, 0, 0, 1, 0, 1, 0, 0,\n",
              "       1, 0, 0, 0, 0, 0, 1, 0, 0, 1, 0, 1, 1, 0, 0, 1, 1, 1, 1, 0, 0, 0,\n",
              "       0, 0, 0, 0, 1, 0, 0, 1, 0, 0, 0, 1, 0, 1, 1, 1, 1, 0, 0, 0, 1, 1,\n",
              "       1, 0, 1, 1, 1, 1, 1, 0, 1, 1, 1, 0, 1, 0, 0, 1, 1, 1, 1, 0, 1, 1,\n",
              "       1, 0, 1, 0, 1, 1, 0, 1, 0, 0, 1, 1, 1, 1, 0, 1, 1, 0, 0, 0, 0, 0,\n",
              "       1, 1, 1, 0, 0, 0, 1, 0, 1, 1, 1, 0, 0, 0, 1, 0, 1, 0, 0, 0, 1, 0,\n",
              "       1, 1, 1, 1, 0, 1, 1, 0, 0, 0, 1, 1, 1, 0, 1, 1, 1, 0, 1, 1, 0, 0,\n",
              "       0, 0, 1, 0, 1, 0, 1, 0, 0, 1, 0, 0, 1, 1, 0, 1, 0, 0, 1, 0, 1, 1,\n",
              "       1, 0, 0, 0, 1, 1, 1, 1, 1, 0, 1, 0, 0, 1, 1, 0, 1, 0, 0, 0, 0, 1,\n",
              "       1, 1, 1, 1, 1, 1, 1, 0, 0, 1, 1, 0, 0, 1, 1, 0, 1, 1, 0, 0, 1, 1,\n",
              "       0, 1, 0, 1, 0, 1, 0, 0, 0, 1, 1, 1, 0, 1, 1, 0, 0, 1, 0, 1, 1, 0,\n",
              "       0, 1, 1, 1, 1, 1, 0, 0, 1, 1, 0, 0, 1, 0, 0, 0, 1, 0, 1, 0, 1, 0,\n",
              "       0, 1, 1, 1, 1, 0, 1, 1, 1, 1, 1, 0, 1, 0, 1, 1, 0, 0, 0, 1, 1, 1,\n",
              "       0, 0, 0, 0, 1, 0, 1, 1, 1, 0, 1, 0, 0, 1, 0, 0, 0, 1, 0, 0, 0, 0,\n",
              "       1, 1, 1, 0, 1, 1, 0, 1, 0, 1, 1, 1, 0, 1, 1, 1, 1, 0, 0, 1, 0, 1,\n",
              "       1, 0, 1, 1, 1, 1, 0, 0, 0, 1, 0, 1, 0, 1, 1, 1, 0, 0, 1, 1, 0, 0,\n",
              "       1, 1, 1, 0, 0, 1, 0, 0, 1, 1])"
            ]
          },
          "metadata": {},
          "execution_count": 37
        }
      ]
    },
    {
      "cell_type": "code",
      "source": [
        "pd.DataFrame(x)[0]"
      ],
      "metadata": {
        "colab": {
          "base_uri": "https://localhost:8080/",
          "height": 458
        },
        "id": "CqMS9jEuut74",
        "outputId": "e1fb38af-9048-4e34-9239-e10d34ac3b22"
      },
      "execution_count": 38,
      "outputs": [
        {
          "output_type": "execute_result",
          "data": {
            "text/plain": [
              "0      0.227286\n",
              "1      1.558981\n",
              "2     -0.612391\n",
              "3      1.315664\n",
              "4      1.356411\n",
              "         ...   \n",
              "995    1.945328\n",
              "996    1.035686\n",
              "997   -0.847141\n",
              "998   -1.239782\n",
              "999   -0.504044\n",
              "Name: 0, Length: 1000, dtype: float64"
            ],
            "text/html": [
              "<div>\n",
              "<style scoped>\n",
              "    .dataframe tbody tr th:only-of-type {\n",
              "        vertical-align: middle;\n",
              "    }\n",
              "\n",
              "    .dataframe tbody tr th {\n",
              "        vertical-align: top;\n",
              "    }\n",
              "\n",
              "    .dataframe thead th {\n",
              "        text-align: right;\n",
              "    }\n",
              "</style>\n",
              "<table border=\"1\" class=\"dataframe\">\n",
              "  <thead>\n",
              "    <tr style=\"text-align: right;\">\n",
              "      <th></th>\n",
              "      <th>0</th>\n",
              "    </tr>\n",
              "  </thead>\n",
              "  <tbody>\n",
              "    <tr>\n",
              "      <th>0</th>\n",
              "      <td>0.227286</td>\n",
              "    </tr>\n",
              "    <tr>\n",
              "      <th>1</th>\n",
              "      <td>1.558981</td>\n",
              "    </tr>\n",
              "    <tr>\n",
              "      <th>2</th>\n",
              "      <td>-0.612391</td>\n",
              "    </tr>\n",
              "    <tr>\n",
              "      <th>3</th>\n",
              "      <td>1.315664</td>\n",
              "    </tr>\n",
              "    <tr>\n",
              "      <th>4</th>\n",
              "      <td>1.356411</td>\n",
              "    </tr>\n",
              "    <tr>\n",
              "      <th>...</th>\n",
              "      <td>...</td>\n",
              "    </tr>\n",
              "    <tr>\n",
              "      <th>995</th>\n",
              "      <td>1.945328</td>\n",
              "    </tr>\n",
              "    <tr>\n",
              "      <th>996</th>\n",
              "      <td>1.035686</td>\n",
              "    </tr>\n",
              "    <tr>\n",
              "      <th>997</th>\n",
              "      <td>-0.847141</td>\n",
              "    </tr>\n",
              "    <tr>\n",
              "      <th>998</th>\n",
              "      <td>-1.239782</td>\n",
              "    </tr>\n",
              "    <tr>\n",
              "      <th>999</th>\n",
              "      <td>-0.504044</td>\n",
              "    </tr>\n",
              "  </tbody>\n",
              "</table>\n",
              "<p>1000 rows × 1 columns</p>\n",
              "</div><br><label><b>dtype:</b> float64</label>"
            ]
          },
          "metadata": {},
          "execution_count": 38
        }
      ]
    },
    {
      "cell_type": "code",
      "source": [
        "pd.DataFrame(x)[1]"
      ],
      "metadata": {
        "colab": {
          "base_uri": "https://localhost:8080/",
          "height": 458
        },
        "id": "tR_SdP4ju7ot",
        "outputId": "e4ce1c6b-834d-4543-e91f-fd8dbd713245"
      },
      "execution_count": 39,
      "outputs": [
        {
          "output_type": "execute_result",
          "data": {
            "text/plain": [
              "0      1.707340\n",
              "1      0.501850\n",
              "2     -1.302195\n",
              "3     -2.124767\n",
              "4     -1.030545\n",
              "         ...   \n",
              "995   -0.110364\n",
              "996   -0.273370\n",
              "997   -1.224915\n",
              "998    2.608230\n",
              "999    2.180762\n",
              "Name: 1, Length: 1000, dtype: float64"
            ],
            "text/html": [
              "<div>\n",
              "<style scoped>\n",
              "    .dataframe tbody tr th:only-of-type {\n",
              "        vertical-align: middle;\n",
              "    }\n",
              "\n",
              "    .dataframe tbody tr th {\n",
              "        vertical-align: top;\n",
              "    }\n",
              "\n",
              "    .dataframe thead th {\n",
              "        text-align: right;\n",
              "    }\n",
              "</style>\n",
              "<table border=\"1\" class=\"dataframe\">\n",
              "  <thead>\n",
              "    <tr style=\"text-align: right;\">\n",
              "      <th></th>\n",
              "      <th>1</th>\n",
              "    </tr>\n",
              "  </thead>\n",
              "  <tbody>\n",
              "    <tr>\n",
              "      <th>0</th>\n",
              "      <td>1.707340</td>\n",
              "    </tr>\n",
              "    <tr>\n",
              "      <th>1</th>\n",
              "      <td>0.501850</td>\n",
              "    </tr>\n",
              "    <tr>\n",
              "      <th>2</th>\n",
              "      <td>-1.302195</td>\n",
              "    </tr>\n",
              "    <tr>\n",
              "      <th>3</th>\n",
              "      <td>-2.124767</td>\n",
              "    </tr>\n",
              "    <tr>\n",
              "      <th>4</th>\n",
              "      <td>-1.030545</td>\n",
              "    </tr>\n",
              "    <tr>\n",
              "      <th>...</th>\n",
              "      <td>...</td>\n",
              "    </tr>\n",
              "    <tr>\n",
              "      <th>995</th>\n",
              "      <td>-0.110364</td>\n",
              "    </tr>\n",
              "    <tr>\n",
              "      <th>996</th>\n",
              "      <td>-0.273370</td>\n",
              "    </tr>\n",
              "    <tr>\n",
              "      <th>997</th>\n",
              "      <td>-1.224915</td>\n",
              "    </tr>\n",
              "    <tr>\n",
              "      <th>998</th>\n",
              "      <td>2.608230</td>\n",
              "    </tr>\n",
              "    <tr>\n",
              "      <th>999</th>\n",
              "      <td>2.180762</td>\n",
              "    </tr>\n",
              "  </tbody>\n",
              "</table>\n",
              "<p>1000 rows × 1 columns</p>\n",
              "</div><br><label><b>dtype:</b> float64</label>"
            ]
          },
          "metadata": {},
          "execution_count": 39
        }
      ]
    },
    {
      "cell_type": "code",
      "source": [
        "y"
      ],
      "metadata": {
        "colab": {
          "base_uri": "https://localhost:8080/"
        },
        "id": "oggNVufIvLP4",
        "outputId": "e0654911-333b-44cf-fea4-8562fe1dcc50"
      },
      "execution_count": 40,
      "outputs": [
        {
          "output_type": "execute_result",
          "data": {
            "text/plain": [
              "array([1, 1, 0, 0, 0, 0, 0, 1, 1, 0, 0, 1, 0, 1, 1, 1, 0, 0, 0, 0, 1, 0,\n",
              "       1, 0, 1, 0, 0, 0, 1, 0, 1, 0, 1, 1, 1, 0, 1, 1, 0, 1, 0, 0, 1, 1,\n",
              "       0, 0, 0, 1, 1, 1, 0, 0, 0, 0, 1, 1, 0, 0, 0, 0, 1, 0, 1, 0, 0, 0,\n",
              "       1, 1, 0, 0, 1, 0, 0, 0, 0, 0, 0, 1, 0, 0, 1, 1, 1, 1, 1, 0, 0, 1,\n",
              "       1, 1, 0, 0, 1, 0, 1, 1, 0, 0, 1, 0, 0, 1, 0, 0, 0, 1, 0, 1, 0, 0,\n",
              "       0, 1, 1, 1, 1, 1, 1, 0, 1, 0, 0, 1, 0, 0, 1, 0, 1, 1, 1, 1, 1, 0,\n",
              "       0, 1, 0, 1, 1, 1, 1, 1, 0, 0, 1, 0, 0, 0, 1, 1, 0, 1, 0, 0, 0, 1,\n",
              "       0, 0, 0, 0, 1, 0, 1, 0, 1, 0, 1, 1, 1, 0, 1, 1, 0, 1, 0, 1, 1, 1,\n",
              "       1, 0, 0, 0, 0, 1, 0, 0, 1, 1, 0, 0, 0, 0, 1, 0, 1, 0, 0, 0, 0, 0,\n",
              "       0, 1, 0, 0, 0, 0, 1, 0, 0, 1, 1, 1, 0, 1, 1, 1, 1, 1, 0, 0, 0, 1,\n",
              "       1, 1, 1, 0, 0, 0, 0, 1, 1, 1, 1, 0, 0, 1, 1, 1, 1, 0, 1, 1, 1, 0,\n",
              "       0, 1, 1, 0, 0, 1, 0, 1, 1, 1, 0, 0, 1, 1, 0, 1, 0, 0, 1, 0, 0, 1,\n",
              "       1, 0, 0, 1, 0, 1, 1, 0, 1, 1, 1, 0, 0, 1, 0, 1, 1, 0, 1, 1, 0, 1,\n",
              "       0, 1, 0, 1, 0, 1, 1, 1, 0, 1, 0, 1, 1, 0, 0, 0, 1, 1, 1, 1, 0, 1,\n",
              "       0, 0, 0, 0, 1, 0, 0, 1, 0, 1, 0, 0, 1, 1, 0, 0, 0, 0, 0, 1, 1, 0,\n",
              "       1, 1, 1, 1, 1, 0, 0, 1, 0, 0, 0, 0, 1, 0, 0, 1, 0, 0, 1, 1, 1, 0,\n",
              "       1, 0, 0, 0, 0, 0, 0, 1, 1, 0, 1, 0, 1, 0, 0, 1, 0, 0, 1, 0, 1, 1,\n",
              "       0, 0, 1, 0, 0, 0, 1, 0, 1, 0, 1, 1, 1, 0, 1, 0, 0, 0, 0, 1, 1, 1,\n",
              "       0, 1, 0, 1, 0, 0, 1, 0, 1, 0, 1, 1, 0, 0, 1, 0, 0, 0, 0, 1, 0, 1,\n",
              "       0, 1, 1, 0, 0, 0, 0, 1, 0, 1, 1, 1, 0, 0, 1, 0, 1, 1, 0, 1, 0, 0,\n",
              "       0, 1, 1, 1, 0, 0, 0, 1, 0, 0, 1, 0, 0, 1, 1, 1, 1, 0, 1, 1, 1, 0,\n",
              "       0, 1, 0, 1, 0, 0, 0, 0, 1, 0, 1, 0, 0, 1, 0, 1, 1, 0, 1, 1, 1, 0,\n",
              "       0, 1, 1, 0, 1, 1, 1, 0, 0, 1, 1, 0, 1, 1, 0, 1, 0, 0, 1, 0, 0, 0,\n",
              "       0, 1, 0, 0, 0, 1, 0, 0, 0, 0, 0, 1, 0, 1, 1, 0, 0, 1, 1, 1, 0, 0,\n",
              "       1, 0, 0, 1, 1, 1, 1, 0, 1, 1, 1, 0, 1, 1, 0, 0, 1, 0, 1, 1, 1, 1,\n",
              "       0, 1, 0, 0, 0, 1, 1, 0, 0, 0, 1, 1, 1, 0, 1, 0, 0, 1, 0, 1, 0, 1,\n",
              "       1, 0, 0, 1, 0, 0, 1, 1, 0, 0, 1, 1, 0, 0, 0, 1, 0, 0, 0, 0, 1, 0,\n",
              "       1, 1, 0, 1, 1, 1, 1, 0, 0, 0, 0, 0, 0, 1, 0, 1, 1, 0, 1, 1, 1, 1,\n",
              "       0, 1, 1, 1, 1, 1, 0, 1, 0, 1, 0, 0, 1, 1, 0, 1, 0, 0, 1, 0, 1, 1,\n",
              "       1, 0, 0, 0, 1, 0, 1, 1, 1, 1, 1, 0, 1, 0, 0, 0, 0, 1, 0, 1, 0, 0,\n",
              "       1, 0, 0, 0, 0, 0, 1, 0, 0, 1, 0, 1, 1, 0, 0, 1, 1, 1, 1, 0, 0, 0,\n",
              "       0, 0, 0, 0, 1, 0, 0, 1, 0, 0, 0, 1, 0, 1, 1, 1, 1, 0, 0, 0, 1, 1,\n",
              "       1, 0, 1, 1, 1, 1, 1, 0, 1, 1, 1, 0, 1, 0, 0, 1, 1, 1, 1, 0, 1, 1,\n",
              "       1, 0, 1, 0, 1, 1, 0, 1, 0, 0, 1, 1, 1, 1, 0, 1, 1, 0, 0, 0, 0, 0,\n",
              "       1, 1, 1, 0, 0, 0, 1, 0, 1, 1, 1, 0, 0, 0, 1, 0, 1, 0, 0, 0, 1, 0,\n",
              "       1, 1, 1, 1, 0, 1, 1, 0, 0, 0, 1, 1, 1, 0, 1, 1, 1, 0, 1, 1, 0, 0,\n",
              "       0, 0, 1, 0, 1, 0, 1, 0, 0, 1, 0, 0, 1, 1, 0, 1, 0, 0, 1, 0, 1, 1,\n",
              "       1, 0, 0, 0, 1, 1, 1, 1, 1, 0, 1, 0, 0, 1, 1, 0, 1, 0, 0, 0, 0, 1,\n",
              "       1, 1, 1, 1, 1, 1, 1, 0, 0, 1, 1, 0, 0, 1, 1, 0, 1, 1, 0, 0, 1, 1,\n",
              "       0, 1, 0, 1, 0, 1, 0, 0, 0, 1, 1, 1, 0, 1, 1, 0, 0, 1, 0, 1, 1, 0,\n",
              "       0, 1, 1, 1, 1, 1, 0, 0, 1, 1, 0, 0, 1, 0, 0, 0, 1, 0, 1, 0, 1, 0,\n",
              "       0, 1, 1, 1, 1, 0, 1, 1, 1, 1, 1, 0, 1, 0, 1, 1, 0, 0, 0, 1, 1, 1,\n",
              "       0, 0, 0, 0, 1, 0, 1, 1, 1, 0, 1, 0, 0, 1, 0, 0, 0, 1, 0, 0, 0, 0,\n",
              "       1, 1, 1, 0, 1, 1, 0, 1, 0, 1, 1, 1, 0, 1, 1, 1, 1, 0, 0, 1, 0, 1,\n",
              "       1, 0, 1, 1, 1, 1, 0, 0, 0, 1, 0, 1, 0, 1, 1, 1, 0, 0, 1, 1, 0, 0,\n",
              "       1, 1, 1, 0, 0, 1, 0, 0, 1, 1])"
            ]
          },
          "metadata": {},
          "execution_count": 40
        }
      ]
    },
    {
      "cell_type": "code",
      "source": [
        "sns.scatterplot(x=pd.DataFrame(x)[0],y=pd.DataFrame(x)[1],hue=y)"
      ],
      "metadata": {
        "colab": {
          "base_uri": "https://localhost:8080/",
          "height": 466
        },
        "id": "rGwtG4TGvNsJ",
        "outputId": "9e880fc0-da36-4c82-9e11-cb54a08be86a"
      },
      "execution_count": 41,
      "outputs": [
        {
          "output_type": "execute_result",
          "data": {
            "text/plain": [
              "<Axes: xlabel='0', ylabel='1'>"
            ]
          },
          "metadata": {},
          "execution_count": 41
        },
        {
          "output_type": "display_data",
          "data": {
            "text/plain": [
              "<Figure size 640x480 with 1 Axes>"
            ],
            "image/png": "[encoded data removed]"
          },
          "metadata": {}
        }
      ]
    },
    {
      "cell_type": "code",
      "source": [
        "from sklearn.model_selection import train_test_split\n",
        "x_train,x_test,y_train,y_test=train_test_split(x,y,test_size=0.30,random_state=1)"
      ],
      "metadata": {
        "id": "G3yJi5BUveck"
      },
      "execution_count": 42,
      "outputs": []
    },
    {
      "cell_type": "code",
      "source": [
        "x_train.shape,x_test.shape"
      ],
      "metadata": {
        "colab": {
          "base_uri": "https://localhost:8080/"
        },
        "id": "z8GUTjBsyCmT",
        "outputId": "d394da50-54ba-4292-e3f1-3bbb3a150db5"
      },
      "execution_count": 43,
      "outputs": [
        {
          "output_type": "execute_result",
          "data": {
            "text/plain": [
              "((700, 2), (300, 2))"
            ]
          },
          "metadata": {},
          "execution_count": 43
        }
      ]
    },
    {
      "cell_type": "code",
      "source": [
        "from sklearn.svm import SVC\n",
        "classifier=SVC(kernel=\"linear\")"
      ],
      "metadata": {
        "id": "rbwWKSidyJQK"
      },
      "execution_count": 44,
      "outputs": []
    },
    {
      "cell_type": "code",
      "source": [
        "classifier"
      ],
      "metadata": {
        "colab": {
          "base_uri": "https://localhost:8080/",
          "height": 74
        },
        "id": "77CoeFdt1yB_",
        "outputId": "496c3294-b0bb-47ed-a9b9-56376fe41932"
      },
      "execution_count": 45,
      "outputs": [
        {
          "output_type": "execute_result",
          "data": {
            "text/plain": [
              "SVC(kernel='linear')"
            ],
            "text/html": [
              "<style>#sk-container-id-8 {color: black;}#sk-container-id-8 pre{padding: 0;}#sk-container-id-8 div.sk-toggleable {background-color: white;}#sk-container-id-8 label.sk-toggleable__label {cursor: pointer;display: block;width: 100%;margin-bottom: 0;padding: 0.3em;box-sizing: border-box;text-align: center;}#sk-container-id-8 label.sk-toggleable__label-arrow:before {content: \"▸\";float: left;margin-right: 0.25em;color: #696969;}#sk-container-id-8 label.sk-toggleable__label-arrow:hover:before {color: black;}#sk-container-id-8 div.sk-estimator:hover label.sk-toggleable__label-arrow:before {color: black;}#sk-container-id-8 div.sk-toggleable__content {max-height: 0;max-width: 0;overflow: hidden;text-align: left;background-color: #f0f8ff;}#sk-container-id-8 div.sk-toggleable__content pre {margin: 0.2em;color: black;border-radius: 0.25em;background-color: #f0f8ff;}#sk-container-id-8 input.sk-toggleable__control:checked~div.sk-toggleable__content {max-height: 200px;max-width: 100%;overflow: auto;}#sk-container-id-8 input.sk-toggleable__control:checked~label.sk-toggleable__label-arrow:before {content: \"▾\";}#sk-container-id-8 div.sk-estimator input.sk-toggleable__control:checked~label.sk-toggleable__label {background-color: #d4ebff;}#sk-container-id-8 div.sk-label input.sk-toggleable__control:checked~label.sk-toggleable__label {background-color: #d4ebff;}#sk-container-id-8 input.sk-hidden--visually {border: 0;clip: rect(1px 1px 1px 1px);clip: rect(1px, 1px, 1px, 1px);height: 1px;margin: -1px;overflow: hidden;padding: 0;position: absolute;width: 1px;}#sk-container-id-8 div.sk-estimator {font-family: monospace;background-color: #f0f8ff;border: 1px dotted black;border-radius: 0.25em;box-sizing: border-box;margin-bottom: 0.5em;}#sk-container-id-8 div.sk-estimator:hover {background-color: #d4ebff;}#sk-container-id-8 div.sk-parallel-item::after {content: \"\";width: 100%;border-bottom: 1px solid gray;flex-grow: 1;}#sk-container-id-8 div.sk-label:hover label.sk-toggleable__label {background-color: #d4ebff;}#sk-container-id-8 div.sk-serial::before {content: \"\";position: absolute;border-left: 1px solid gray;box-sizing: border-box;top: 0;bottom: 0;left: 50%;z-index: 0;}#sk-container-id-8 div.sk-serial {display: flex;flex-direction: column;align-items: center;background-color: white;padding-right: 0.2em;padding-left: 0.2em;position: relative;}#sk-container-id-8 div.sk-item {position: relative;z-index: 1;}#sk-container-id-8 div.sk-parallel {display: flex;align-items: stretch;justify-content: center;background-color: white;position: relative;}#sk-container-id-8 div.sk-item::before, #sk-container-id-8 div.sk-parallel-item::before {content: \"\";position: absolute;border-left: 1px solid gray;box-sizing: border-box;top: 0;bottom: 0;left: 50%;z-index: -1;}#sk-container-id-8 div.sk-parallel-item {display: flex;flex-direction: column;z-index: 1;position: relative;background-color: white;}#sk-container-id-8 div.sk-parallel-item:first-child::after {align-self: flex-end;width: 50%;}#sk-container-id-8 div.sk-parallel-item:last-child::after {align-self: flex-start;width: 50%;}#sk-container-id-8 div.sk-parallel-item:only-child::after {width: 0;}#sk-container-id-8 div.sk-dashed-wrapped {border: 1px dashed gray;margin: 0 0.4em 0.5em 0.4em;box-sizing: border-box;padding-bottom: 0.4em;background-color: white;}#sk-container-id-8 div.sk-label label {font-family: monospace;font-weight: bold;display: inline-block;line-height: 1.2em;}#sk-container-id-8 div.sk-label-container {text-align: center;}#sk-container-id-8 div.sk-container {/* jupyter's `normalize.less` sets `[hidden] { display: none; }` but bootstrap.min.css set `[hidden] { display: none !important; }` so we also need the `!important` here to be able to override the default hidden behavior on the sphinx rendered scikit-learn.org. See: https://github.com/scikit-learn/scikit-learn/issues/21755 */display: inline-block !important;position: relative;}#sk-container-id-8 div.sk-text-repr-fallback {display: none;}</style><div id=\"sk-container-id-8\" class=\"sk-top-container\"><div class=\"sk-text-repr-fallback\"><pre>SVC(kernel=&#x27;linear&#x27;)</pre><b>In a Jupyter environment, please rerun this cell to show the HTML representation or trust the notebook. <br />On GitHub, the HTML representation is unable to render, please try loading this page with nbviewer.org.</b></div><div class=\"sk-container\" hidden><div class=\"sk-item\"><div class=\"sk-estimator sk-toggleable\"><input class=\"sk-toggleable__control sk-hidden--visually\" id=\"sk-estimator-id-18\" type=\"checkbox\" checked><label for=\"sk-estimator-id-18\" class=\"sk-toggleable__label sk-toggleable__label-arrow\">SVC</label><div class=\"sk-toggleable__content\"><pre>SVC(kernel=&#x27;linear&#x27;)</pre></div></div></div></div></div>"
            ]
          },
          "metadata": {},
          "execution_count": 45
        }
      ]
    },
    {
      "cell_type": "code",
      "source": [
        "classifier.fit(x_train,y_train)"
      ],
      "metadata": {
        "colab": {
          "base_uri": "https://localhost:8080/",
          "height": 74
        },
        "id": "ILJVEDcL1z73",
        "outputId": "e97b2f02-8a8d-4a15-b985-7e0238afd316"
      },
      "execution_count": 46,
      "outputs": [
        {
          "output_type": "execute_result",
          "data": {
            "text/plain": [
              "SVC(kernel='linear')"
            ],
            "text/html": [
              "<style>#sk-container-id-9 {color: black;}#sk-container-id-9 pre{padding: 0;}#sk-container-id-9 div.sk-toggleable {background-color: white;}#sk-container-id-9 label.sk-toggleable__label {cursor: pointer;display: block;width: 100%;margin-bottom: 0;padding: 0.3em;box-sizing: border-box;text-align: center;}#sk-container-id-9 label.sk-toggleable__label-arrow:before {content: \"▸\";float: left;margin-right: 0.25em;color: #696969;}#sk-container-id-9 label.sk-toggleable__label-arrow:hover:before {color: black;}#sk-container-id-9 div.sk-estimator:hover label.sk-toggleable__label-arrow:before {color: black;}#sk-container-id-9 div.sk-toggleable__content {max-height: 0;max-width: 0;overflow: hidden;text-align: left;background-color: #f0f8ff;}#sk-container-id-9 div.sk-toggleable__content pre {margin: 0.2em;color: black;border-radius: 0.25em;background-color: #f0f8ff;}#sk-container-id-9 input.sk-toggleable__control:checked~div.sk-toggleable__content {max-height: 200px;max-width: 100%;overflow: auto;}#sk-container-id-9 input.sk-toggleable__control:checked~label.sk-toggleable__label-arrow:before {content: \"▾\";}#sk-container-id-9 div.sk-estimator input.sk-toggleable__control:checked~label.sk-toggleable__label {background-color: #d4ebff;}#sk-container-id-9 div.sk-label input.sk-toggleable__control:checked~label.sk-toggleable__label {background-color: #d4ebff;}#sk-container-id-9 input.sk-hidden--visually {border: 0;clip: rect(1px 1px 1px 1px);clip: rect(1px, 1px, 1px, 1px);height: 1px;margin: -1px;overflow: hidden;padding: 0;position: absolute;width: 1px;}#sk-container-id-9 div.sk-estimator {font-family: monospace;background-color: #f0f8ff;border: 1px dotted black;border-radius: 0.25em;box-sizing: border-box;margin-bottom: 0.5em;}#sk-container-id-9 div.sk-estimator:hover {background-color: #d4ebff;}#sk-container-id-9 div.sk-parallel-item::after {content: \"\";width: 100%;border-bottom: 1px solid gray;flex-grow: 1;}#sk-container-id-9 div.sk-label:hover label.sk-toggleable__label {background-color: #d4ebff;}#sk-container-id-9 div.sk-serial::before {content: \"\";position: absolute;border-left: 1px solid gray;box-sizing: border-box;top: 0;bottom: 0;left: 50%;z-index: 0;}#sk-container-id-9 div.sk-serial {display: flex;flex-direction: column;align-items: center;background-color: white;padding-right: 0.2em;padding-left: 0.2em;position: relative;}#sk-container-id-9 div.sk-item {position: relative;z-index: 1;}#sk-container-id-9 div.sk-parallel {display: flex;align-items: stretch;justify-content: center;background-color: white;position: relative;}#sk-container-id-9 div.sk-item::before, #sk-container-id-9 div.sk-parallel-item::before {content: \"\";position: absolute;border-left: 1px solid gray;box-sizing: border-box;top: 0;bottom: 0;left: 50%;z-index: -1;}#sk-container-id-9 div.sk-parallel-item {display: flex;flex-direction: column;z-index: 1;position: relative;background-color: white;}#sk-container-id-9 div.sk-parallel-item:first-child::after {align-self: flex-end;width: 50%;}#sk-container-id-9 div.sk-parallel-item:last-child::after {align-self: flex-start;width: 50%;}#sk-container-id-9 div.sk-parallel-item:only-child::after {width: 0;}#sk-container-id-9 div.sk-dashed-wrapped {border: 1px dashed gray;margin: 0 0.4em 0.5em 0.4em;box-sizing: border-box;padding-bottom: 0.4em;background-color: white;}#sk-container-id-9 div.sk-label label {font-family: monospace;font-weight: bold;display: inline-block;line-height: 1.2em;}#sk-container-id-9 div.sk-label-container {text-align: center;}#sk-container-id-9 div.sk-container {/* jupyter's `normalize.less` sets `[hidden] { display: none; }` but bootstrap.min.css set `[hidden] { display: none !important; }` so we also need the `!important` here to be able to override the default hidden behavior on the sphinx rendered scikit-learn.org. See: https://github.com/scikit-learn/scikit-learn/issues/21755 */display: inline-block !important;position: relative;}#sk-container-id-9 div.sk-text-repr-fallback {display: none;}</style><div id=\"sk-container-id-9\" class=\"sk-top-container\"><div class=\"sk-text-repr-fallback\"><pre>SVC(kernel=&#x27;linear&#x27;)</pre><b>In a Jupyter environment, please rerun this cell to show the HTML representation or trust the notebook. <br />On GitHub, the HTML representation is unable to render, please try loading this page with nbviewer.org.</b></div><div class=\"sk-container\" hidden><div class=\"sk-item\"><div class=\"sk-estimator sk-toggleable\"><input class=\"sk-toggleable__control sk-hidden--visually\" id=\"sk-estimator-id-19\" type=\"checkbox\" checked><label for=\"sk-estimator-id-19\" class=\"sk-toggleable__label sk-toggleable__label-arrow\">SVC</label><div class=\"sk-toggleable__content\"><pre>SVC(kernel=&#x27;linear&#x27;)</pre></div></div></div></div></div>"
            ]
          },
          "metadata": {},
          "execution_count": 46
        }
      ]
    },
    {
      "cell_type": "code",
      "source": [
        "classifier.coef_"
      ],
      "metadata": {
        "colab": {
          "base_uri": "https://localhost:8080/"
        },
        "id": "EBzZgpPF15qF",
        "outputId": "43af59d6-4dda-4f3a-bee6-ca88e1552d50"
      },
      "execution_count": 47,
      "outputs": [
        {
          "output_type": "execute_result",
          "data": {
            "text/plain": [
              "array([[0.23818599, 1.88958959]])"
            ]
          },
          "metadata": {},
          "execution_count": 47
        }
      ]
    },
    {
      "cell_type": "code",
      "source": [
        "y_pred=classifier.predict(x_test)"
      ],
      "metadata": {
        "id": "RWJamJN81-hD"
      },
      "execution_count": 48,
      "outputs": []
    },
    {
      "cell_type": "code",
      "source": [
        "y_pred"
      ],
      "metadata": {
        "colab": {
          "base_uri": "https://localhost:8080/"
        },
        "id": "bIWztTVT2K5z",
        "outputId": "17108809-e851-40a5-cde6-6bbc1998f2af"
      },
      "execution_count": 49,
      "outputs": [
        {
          "output_type": "execute_result",
          "data": {
            "text/plain": [
              "array([1, 1, 0, 0, 0, 0, 0, 1, 0, 1, 0, 0, 1, 1, 1, 1, 0, 0, 0, 1, 0, 1,\n",
              "       1, 1, 0, 0, 0, 1, 0, 0, 1, 0, 0, 1, 1, 1, 0, 1, 1, 1, 1, 0, 1, 1,\n",
              "       0, 0, 0, 0, 1, 1, 1, 1, 0, 0, 0, 1, 0, 1, 0, 0, 1, 1, 1, 0, 1, 1,\n",
              "       0, 0, 1, 0, 1, 1, 0, 0, 0, 0, 0, 1, 1, 1, 1, 0, 1, 0, 1, 1, 0, 0,\n",
              "       0, 0, 0, 0, 1, 1, 0, 1, 0, 0, 0, 1, 0, 1, 1, 0, 1, 1, 1, 0, 1, 1,\n",
              "       0, 1, 1, 0, 1, 1, 0, 0, 0, 0, 0, 0, 0, 1, 1, 0, 0, 0, 0, 0, 1, 0,\n",
              "       0, 0, 0, 0, 1, 1, 0, 0, 0, 0, 0, 0, 1, 0, 0, 1, 1, 0, 0, 1, 1, 0,\n",
              "       0, 0, 0, 0, 1, 1, 0, 0, 1, 0, 0, 0, 1, 1, 0, 1, 0, 1, 0, 1, 0, 0,\n",
              "       0, 0, 1, 1, 0, 0, 0, 1, 1, 0, 0, 0, 1, 1, 0, 0, 1, 0, 0, 0, 0, 0,\n",
              "       0, 1, 1, 0, 1, 1, 0, 1, 0, 0, 0, 1, 1, 0, 0, 1, 0, 1, 0, 0, 0, 1,\n",
              "       0, 1, 0, 0, 1, 0, 1, 0, 0, 0, 0, 1, 0, 0, 1, 1, 0, 1, 1, 0, 1, 1,\n",
              "       0, 0, 1, 1, 1, 1, 1, 1, 1, 1, 0, 0, 0, 0, 1, 0, 0, 0, 1, 0, 0, 0,\n",
              "       1, 1, 0, 0, 0, 0, 1, 0, 0, 0, 1, 0, 1, 1, 0, 1, 0, 0, 0, 0, 1, 0,\n",
              "       0, 1, 1, 0, 0, 1, 1, 1, 0, 1, 0, 0, 0, 1])"
            ]
          },
          "metadata": {},
          "execution_count": 49
        }
      ]
    },
    {
      "cell_type": "code",
      "source": [
        "from sklearn.metrics import classification_report,confusion_matrix,accuracy_score\n",
        "print(classification_report(y_test,y_pred))"
      ],
      "metadata": {
        "colab": {
          "base_uri": "https://localhost:8080/"
        },
        "id": "2FvXcL8B2Mwp",
        "outputId": "f056f78e-a100-4514-9ba5-d29465d6115c"
      },
      "execution_count": 50,
      "outputs": [
        {
          "output_type": "stream",
          "name": "stdout",
          "text": [
            "              precision    recall  f1-score   support\n",
            "\n",
            "           0       0.88      0.91      0.90       166\n",
            "           1       0.88      0.85      0.87       134\n",
            "\n",
            "    accuracy                           0.88       300\n",
            "   macro avg       0.88      0.88      0.88       300\n",
            "weighted avg       0.88      0.88      0.88       300\n",
            "\n"
          ]
        }
      ]
    },
    {
      "cell_type": "code",
      "source": [
        "print(confusion_matrix(y_test,y_pred))"
      ],
      "metadata": {
        "colab": {
          "base_uri": "https://localhost:8080/"
        },
        "id": "cYyUTWu-2fFI",
        "outputId": "948e37d9-033f-4af6-d502-bd8f95276e3c"
      },
      "execution_count": 51,
      "outputs": [
        {
          "output_type": "stream",
          "name": "stdout",
          "text": [
            "[[151  15]\n",
            " [ 20 114]]\n"
          ]
        }
      ]
    },
    {
      "cell_type": "code",
      "source": [
        "print(accuracy_score(y_test,y_pred))"
      ],
      "metadata": {
        "colab": {
          "base_uri": "https://localhost:8080/"
        },
        "id": "39byRRGo2pRu",
        "outputId": "a91de1a1-86d0-437c-d5d0-42268dde7a3c"
      },
      "execution_count": 52,
      "outputs": [
        {
          "output_type": "stream",
          "name": "stdout",
          "text": [
            "0.8833333333333333\n"
          ]
        }
      ]
    },
    {
      "cell_type": "code",
      "source": [
        "from sklearn.model_selection import GridSearchCV\n",
        "params={'C':[1,2,3,4,5,10,20,50,100],\n",
        "        'gamma':[0.2,1,0.4,0.001,0.003],\n",
        "        'kernel':['linear']}"
      ],
      "metadata": {
        "id": "5Zg0G3q32urP"
      },
      "execution_count": 53,
      "outputs": []
    },
    {
      "cell_type": "code",
      "source": [
        "params"
      ],
      "metadata": {
        "colab": {
          "base_uri": "https://localhost:8080/"
        },
        "id": "iOSkov7E4GZ7",
        "outputId": "792006a8-e162-4174-85d4-762445437633"
      },
      "execution_count": 54,
      "outputs": [
        {
          "output_type": "execute_result",
          "data": {
            "text/plain": [
              "{'C': [1, 2, 3, 4, 5, 10, 20, 50, 100],\n",
              " 'gamma': [0.2, 1, 0.4, 0.001, 0.003],\n",
              " 'kernel': ['linear']}"
            ]
          },
          "metadata": {},
          "execution_count": 54
        }
      ]
    },
    {
      "cell_type": "code",
      "source": [
        "grid=GridSearchCV(classifier,param_grid=params,cv=5,verbose=3)"
      ],
      "metadata": {
        "id": "0Jva14Sm4Lfx"
      },
      "execution_count": 55,
      "outputs": []
    },
    {
      "cell_type": "code",
      "source": [
        "grid"
      ],
      "metadata": {
        "colab": {
          "base_uri": "https://localhost:8080/",
          "height": 117
        },
        "id": "o8akSc2x4Z2E",
        "outputId": "bcb98974-c0ee-4de9-d7ae-2788b5193dcb"
      },
      "execution_count": 56,
      "outputs": [
        {
          "output_type": "execute_result",
          "data": {
            "text/plain": [
              "GridSearchCV(cv=5, estimator=SVC(kernel='linear'),\n",
              "             param_grid={'C': [1, 2, 3, 4, 5, 10, 20, 50, 100],\n",
              "                         'gamma': [0.2, 1, 0.4, 0.001, 0.003],\n",
              "                         'kernel': ['linear']},\n",
              "             verbose=3)"
            ],
            "text/html": [
              "<style>#sk-container-id-10 {color: black;}#sk-container-id-10 pre{padding: 0;}#sk-container-id-10 div.sk-toggleable {background-color: white;}#sk-container-id-10 label.sk-toggleable__label {cursor: pointer;display: block;width: 100%;margin-bottom: 0;padding: 0.3em;box-sizing: border-box;text-align: center;}#sk-container-id-10 label.sk-toggleable__label-arrow:before {content: \"▸\";float: left;margin-right: 0.25em;color: #696969;}#sk-container-id-10 label.sk-toggleable__label-arrow:hover:before {color: black;}#sk-container-id-10 div.sk-estimator:hover label.sk-toggleable__label-arrow:before {color: black;}#sk-container-id-10 div.sk-toggleable__content {max-height: 0;max-width: 0;overflow: hidden;text-align: left;background-color: #f0f8ff;}#sk-container-id-10 div.sk-toggleable__content pre {margin: 0.2em;color: black;border-radius: 0.25em;background-color: #f0f8ff;}#sk-container-id-10 input.sk-toggleable__control:checked~div.sk-toggleable__content {max-height: 200px;max-width: 100%;overflow: auto;}#sk-container-id-10 input.sk-toggleable__control:checked~label.sk-toggleable__label-arrow:before {content: \"▾\";}#sk-container-id-10 div.sk-estimator input.sk-toggleable__control:checked~label.sk-toggleable__label {background-color: #d4ebff;}#sk-container-id-10 div.sk-label input.sk-toggleable__control:checked~label.sk-toggleable__label {background-color: #d4ebff;}#sk-container-id-10 input.sk-hidden--visually {border: 0;clip: rect(1px 1px 1px 1px);clip: rect(1px, 1px, 1px, 1px);height: 1px;margin: -1px;overflow: hidden;padding: 0;position: absolute;width: 1px;}#sk-container-id-10 div.sk-estimator {font-family: monospace;background-color: #f0f8ff;border: 1px dotted black;border-radius: 0.25em;box-sizing: border-box;margin-bottom: 0.5em;}#sk-container-id-10 div.sk-estimator:hover {background-color: #d4ebff;}#sk-container-id-10 div.sk-parallel-item::after {content: \"\";width: 100%;border-bottom: 1px solid gray;flex-grow: 1;}#sk-container-id-10 div.sk-label:hover label.sk-toggleable__label {background-color: #d4ebff;}#sk-container-id-10 div.sk-serial::before {content: \"\";position: absolute;border-left: 1px solid gray;box-sizing: border-box;top: 0;bottom: 0;left: 50%;z-index: 0;}#sk-container-id-10 div.sk-serial {display: flex;flex-direction: column;align-items: center;background-color: white;padding-right: 0.2em;padding-left: 0.2em;position: relative;}#sk-container-id-10 div.sk-item {position: relative;z-index: 1;}#sk-container-id-10 div.sk-parallel {display: flex;align-items: stretch;justify-content: center;background-color: white;position: relative;}#sk-container-id-10 div.sk-item::before, #sk-container-id-10 div.sk-parallel-item::before {content: \"\";position: absolute;border-left: 1px solid gray;box-sizing: border-box;top: 0;bottom: 0;left: 50%;z-index: -1;}#sk-container-id-10 div.sk-parallel-item {display: flex;flex-direction: column;z-index: 1;position: relative;background-color: white;}#sk-container-id-10 div.sk-parallel-item:first-child::after {align-self: flex-end;width: 50%;}#sk-container-id-10 div.sk-parallel-item:last-child::after {align-self: flex-start;width: 50%;}#sk-container-id-10 div.sk-parallel-item:only-child::after {width: 0;}#sk-container-id-10 div.sk-dashed-wrapped {border: 1px dashed gray;margin: 0 0.4em 0.5em 0.4em;box-sizing: border-box;padding-bottom: 0.4em;background-color: white;}#sk-container-id-10 div.sk-label label {font-family: monospace;font-weight: bold;display: inline-block;line-height: 1.2em;}#sk-container-id-10 div.sk-label-container {text-align: center;}#sk-container-id-10 div.sk-container {/* jupyter's `normalize.less` sets `[hidden] { display: none; }` but bootstrap.min.css set `[hidden] { display: none !important; }` so we also need the `!important` here to be able to override the default hidden behavior on the sphinx rendered scikit-learn.org. See: https://github.com/scikit-learn/scikit-learn/issues/21755 */display: inline-block !important;position: relative;}#sk-container-id-10 div.sk-text-repr-fallback {display: none;}</style><div id=\"sk-container-id-10\" class=\"sk-top-container\"><div class=\"sk-text-repr-fallback\"><pre>GridSearchCV(cv=5, estimator=SVC(kernel=&#x27;linear&#x27;),\n",
              "             param_grid={&#x27;C&#x27;: [1, 2, 3, 4, 5, 10, 20, 50, 100],\n",
              "                         &#x27;gamma&#x27;: [0.2, 1, 0.4, 0.001, 0.003],\n",
              "                         &#x27;kernel&#x27;: [&#x27;linear&#x27;]},\n",
              "             verbose=3)</pre><b>In a Jupyter environment, please rerun this cell to show the HTML representation or trust the notebook. <br />On GitHub, the HTML representation is unable to render, please try loading this page with nbviewer.org.</b></div><div class=\"sk-container\" hidden><div class=\"sk-item sk-dashed-wrapped\"><div class=\"sk-label-container\"><div class=\"sk-label sk-toggleable\"><input class=\"sk-toggleable__control sk-hidden--visually\" id=\"sk-estimator-id-20\" type=\"checkbox\" ><label for=\"sk-estimator-id-20\" class=\"sk-toggleable__label sk-toggleable__label-arrow\">GridSearchCV</label><div class=\"sk-toggleable__content\"><pre>GridSearchCV(cv=5, estimator=SVC(kernel=&#x27;linear&#x27;),\n",
              "             param_grid={&#x27;C&#x27;: [1, 2, 3, 4, 5, 10, 20, 50, 100],\n",
              "                         &#x27;gamma&#x27;: [0.2, 1, 0.4, 0.001, 0.003],\n",
              "                         &#x27;kernel&#x27;: [&#x27;linear&#x27;]},\n",
              "             verbose=3)</pre></div></div></div><div class=\"sk-parallel\"><div class=\"sk-parallel-item\"><div class=\"sk-item\"><div class=\"sk-label-container\"><div class=\"sk-label sk-toggleable\"><input class=\"sk-toggleable__control sk-hidden--visually\" id=\"sk-estimator-id-21\" type=\"checkbox\" ><label for=\"sk-estimator-id-21\" class=\"sk-toggleable__label sk-toggleable__label-arrow\">estimator: SVC</label><div class=\"sk-toggleable__content\"><pre>SVC(kernel=&#x27;linear&#x27;)</pre></div></div></div><div class=\"sk-serial\"><div class=\"sk-item\"><div class=\"sk-estimator sk-toggleable\"><input class=\"sk-toggleable__control sk-hidden--visually\" id=\"sk-estimator-id-22\" type=\"checkbox\" ><label for=\"sk-estimator-id-22\" class=\"sk-toggleable__label sk-toggleable__label-arrow\">SVC</label><div class=\"sk-toggleable__content\"><pre>SVC(kernel=&#x27;linear&#x27;)</pre></div></div></div></div></div></div></div></div></div></div>"
            ]
          },
          "metadata": {},
          "execution_count": 56
        }
      ]
    },
    {
      "cell_type": "code",
      "source": [
        "grid.fit(x_train,y_train)"
      ],
      "metadata": {
        "colab": {
          "base_uri": "https://localhost:8080/",
          "height": 1000
        },
        "id": "dnjE1UCP4bu6",
        "outputId": "5aef1cb2-438b-409d-f2e4-7fa1bd3b0ad5"
      },
      "execution_count": 57,
      "outputs": [
        {
          "output_type": "stream",
          "name": "stdout",
          "text": [
            "Fitting 5 folds for each of 45 candidates, totalling 225 fits\n",
            "[CV 1/5] END .....C=1, gamma=0.2, kernel=linear;, score=0.979 total time=   0.0s\n",
            "[CV 2/5] END .....C=1, gamma=0.2, kernel=linear;, score=0.936 total time=   0.0s\n",
            "[CV 3/5] END .....C=1, gamma=0.2, kernel=linear;, score=0.879 total time=   0.0s\n",
            "[CV 4/5] END .....C=1, gamma=0.2, kernel=linear;, score=0.886 total time=   0.0s\n",
            "[CV 5/5] END .....C=1, gamma=0.2, kernel=linear;, score=0.921 total time=   0.0s\n",
            "[CV 1/5] END .......C=1, gamma=1, kernel=linear;, score=0.979 total time=   0.0s\n",
            "[CV 2/5] END .......C=1, gamma=1, kernel=linear;, score=0.936 total time=   0.0s\n",
            "[CV 3/5] END .......C=1, gamma=1, kernel=linear;, score=0.879 total time=   0.0s\n",
            "[CV 4/5] END .......C=1, gamma=1, kernel=linear;, score=0.886 total time=   0.0s\n",
            "[CV 5/5] END .......C=1, gamma=1, kernel=linear;, score=0.921 total time=   0.0s\n",
            "[CV 1/5] END .....C=1, gamma=0.4, kernel=linear;, score=0.979 total time=   0.0s\n",
            "[CV 2/5] END .....C=1, gamma=0.4, kernel=linear;, score=0.936 total time=   0.0s\n",
            "[CV 3/5] END .....C=1, gamma=0.4, kernel=linear;, score=0.879 total time=   0.0s\n",
            "[CV 4/5] END .....C=1, gamma=0.4, kernel=linear;, score=0.886 total time=   0.0s\n",
            "[CV 5/5] END .....C=1, gamma=0.4, kernel=linear;, score=0.921 total time=   0.0s\n",
            "[CV 1/5] END ...C=1, gamma=0.001, kernel=linear;, score=0.979 total time=   0.0s\n",
            "[CV 2/5] END ...C=1, gamma=0.001, kernel=linear;, score=0.936 total time=   0.0s\n",
            "[CV 3/5] END ...C=1, gamma=0.001, kernel=linear;, score=0.879 total time=   0.0s\n",
            "[CV 4/5] END ...C=1, gamma=0.001, kernel=linear;, score=0.886 total time=   0.0s\n",
            "[CV 5/5] END ...C=1, gamma=0.001, kernel=linear;, score=0.921 total time=   0.0s\n",
            "[CV 1/5] END ...C=1, gamma=0.003, kernel=linear;, score=0.979 total time=   0.0s\n",
            "[CV 2/5] END ...C=1, gamma=0.003, kernel=linear;, score=0.936 total time=   0.0s\n",
            "[CV 3/5] END ...C=1, gamma=0.003, kernel=linear;, score=0.879 total time=   0.0s\n",
            "[CV 4/5] END ...C=1, gamma=0.003, kernel=linear;, score=0.886 total time=   0.0s\n",
            "[CV 5/5] END ...C=1, gamma=0.003, kernel=linear;, score=0.921 total time=   0.0s\n",
            "[CV 1/5] END .....C=2, gamma=0.2, kernel=linear;, score=0.979 total time=   0.0s\n",
            "[CV 2/5] END .....C=2, gamma=0.2, kernel=linear;, score=0.936 total time=   0.0s\n",
            "[CV 3/5] END .....C=2, gamma=0.2, kernel=linear;, score=0.879 total time=   0.0s\n",
            "[CV 4/5] END .....C=2, gamma=0.2, kernel=linear;, score=0.886 total time=   0.0s\n",
            "[CV 5/5] END .....C=2, gamma=0.2, kernel=linear;, score=0.921 total time=   0.0s\n",
            "[CV 1/5] END .......C=2, gamma=1, kernel=linear;, score=0.979 total time=   0.0s\n",
            "[CV 2/5] END .......C=2, gamma=1, kernel=linear;, score=0.936 total time=   0.0s\n",
            "[CV 3/5] END .......C=2, gamma=1, kernel=linear;, score=0.879 total time=   0.0s\n",
            "[CV 4/5] END .......C=2, gamma=1, kernel=linear;, score=0.886 total time=   0.0s\n",
            "[CV 5/5] END .......C=2, gamma=1, kernel=linear;, score=0.921 total time=   0.0s\n",
            "[CV 1/5] END .....C=2, gamma=0.4, kernel=linear;, score=0.979 total time=   0.0s\n",
            "[CV 2/5] END .....C=2, gamma=0.4, kernel=linear;, score=0.936 total time=   0.0s\n",
            "[CV 3/5] END .....C=2, gamma=0.4, kernel=linear;, score=0.879 total time=   0.0s\n",
            "[CV 4/5] END .....C=2, gamma=0.4, kernel=linear;, score=0.886 total time=   0.0s\n",
            "[CV 5/5] END .....C=2, gamma=0.4, kernel=linear;, score=0.921 total time=   0.0s\n",
            "[CV 1/5] END ...C=2, gamma=0.001, kernel=linear;, score=0.979 total time=   0.0s\n",
            "[CV 2/5] END ...C=2, gamma=0.001, kernel=linear;, score=0.936 total time=   0.0s\n",
            "[CV 3/5] END ...C=2, gamma=0.001, kernel=linear;, score=0.879 total time=   0.0s\n",
            "[CV 4/5] END ...C=2, gamma=0.001, kernel=linear;, score=0.886 total time=   0.0s\n",
            "[CV 5/5] END ...C=2, gamma=0.001, kernel=linear;, score=0.921 total time=   0.0s\n",
            "[CV 1/5] END ...C=2, gamma=0.003, kernel=linear;, score=0.979 total time=   0.0s\n",
            "[CV 2/5] END ...C=2, gamma=0.003, kernel=linear;, score=0.936 total time=   0.0s\n",
            "[CV 3/5] END ...C=2, gamma=0.003, kernel=linear;, score=0.879 total time=   0.0s\n",
            "[CV 4/5] END ...C=2, gamma=0.003, kernel=linear;, score=0.886 total time=   0.0s\n",
            "[CV 5/5] END ...C=2, gamma=0.003, kernel=linear;, score=0.921 total time=   0.0s\n",
            "[CV 1/5] END .....C=3, gamma=0.2, kernel=linear;, score=0.979 total time=   0.0s\n",
            "[CV 2/5] END .....C=3, gamma=0.2, kernel=linear;, score=0.936 total time=   0.0s\n",
            "[CV 3/5] END .....C=3, gamma=0.2, kernel=linear;, score=0.879 total time=   0.0s\n",
            "[CV 4/5] END .....C=3, gamma=0.2, kernel=linear;, score=0.886 total time=   0.0s\n",
            "[CV 5/5] END .....C=3, gamma=0.2, kernel=linear;, score=0.921 total time=   0.0s\n",
            "[CV 1/5] END .......C=3, gamma=1, kernel=linear;, score=0.979 total time=   0.0s\n",
            "[CV 2/5] END .......C=3, gamma=1, kernel=linear;, score=0.936 total time=   0.0s\n",
            "[CV 3/5] END .......C=3, gamma=1, kernel=linear;, score=0.879 total time=   0.0s\n",
            "[CV 4/5] END .......C=3, gamma=1, kernel=linear;, score=0.886 total time=   0.0s\n",
            "[CV 5/5] END .......C=3, gamma=1, kernel=linear;, score=0.921 total time=   0.0s\n",
            "[CV 1/5] END .....C=3, gamma=0.4, kernel=linear;, score=0.979 total time=   0.0s\n",
            "[CV 2/5] END .....C=3, gamma=0.4, kernel=linear;, score=0.936 total time=   0.0s\n",
            "[CV 3/5] END .....C=3, gamma=0.4, kernel=linear;, score=0.879 total time=   0.0s\n",
            "[CV 4/5] END .....C=3, gamma=0.4, kernel=linear;, score=0.886 total time=   0.0s\n",
            "[CV 5/5] END .....C=3, gamma=0.4, kernel=linear;, score=0.921 total time=   0.0s\n",
            "[CV 1/5] END ...C=3, gamma=0.001, kernel=linear;, score=0.979 total time=   0.0s\n",
            "[CV 2/5] END ...C=3, gamma=0.001, kernel=linear;, score=0.936 total time=   0.0s\n",
            "[CV 3/5] END ...C=3, gamma=0.001, kernel=linear;, score=0.879 total time=   0.0s\n",
            "[CV 4/5] END ...C=3, gamma=0.001, kernel=linear;, score=0.886 total time=   0.0s\n",
            "[CV 5/5] END ...C=3, gamma=0.001, kernel=linear;, score=0.921 total time=   0.0s\n",
            "[CV 1/5] END ...C=3, gamma=0.003, kernel=linear;, score=0.979 total time=   0.0s\n",
            "[CV 2/5] END ...C=3, gamma=0.003, kernel=linear;, score=0.936 total time=   0.0s\n",
            "[CV 3/5] END ...C=3, gamma=0.003, kernel=linear;, score=0.879 total time=   0.0s\n",
            "[CV 4/5] END ...C=3, gamma=0.003, kernel=linear;, score=0.886 total time=   0.0s\n",
            "[CV 5/5] END ...C=3, gamma=0.003, kernel=linear;, score=0.921 total time=   0.0s\n",
            "[CV 1/5] END .....C=4, gamma=0.2, kernel=linear;, score=0.979 total time=   0.0s\n",
            "[CV 2/5] END .....C=4, gamma=0.2, kernel=linear;, score=0.936 total time=   0.0s\n",
            "[CV 3/5] END .....C=4, gamma=0.2, kernel=linear;, score=0.879 total time=   0.0s\n",
            "[CV 4/5] END .....C=4, gamma=0.2, kernel=linear;, score=0.886 total time=   0.0s\n",
            "[CV 5/5] END .....C=4, gamma=0.2, kernel=linear;, score=0.921 total time=   0.0s\n",
            "[CV 1/5] END .......C=4, gamma=1, kernel=linear;, score=0.979 total time=   0.0s\n",
            "[CV 2/5] END .......C=4, gamma=1, kernel=linear;, score=0.936 total time=   0.0s\n",
            "[CV 3/5] END .......C=4, gamma=1, kernel=linear;, score=0.879 total time=   0.0s\n",
            "[CV 4/5] END .......C=4, gamma=1, kernel=linear;, score=0.886 total time=   0.0s\n",
            "[CV 5/5] END .......C=4, gamma=1, kernel=linear;, score=0.921 total time=   0.0s\n",
            "[CV 1/5] END .....C=4, gamma=0.4, kernel=linear;, score=0.979 total time=   0.0s\n",
            "[CV 2/5] END .....C=4, gamma=0.4, kernel=linear;, score=0.936 total time=   0.0s\n",
            "[CV 3/5] END .....C=4, gamma=0.4, kernel=linear;, score=0.879 total time=   0.0s\n",
            "[CV 4/5] END .....C=4, gamma=0.4, kernel=linear;, score=0.886 total time=   0.0s\n",
            "[CV 5/5] END .....C=4, gamma=0.4, kernel=linear;, score=0.921 total time=   0.0s\n",
            "[CV 1/5] END ...C=4, gamma=0.001, kernel=linear;, score=0.979 total time=   0.0s\n",
            "[CV 2/5] END ...C=4, gamma=0.001, kernel=linear;, score=0.936 total time=   0.0s\n",
            "[CV 3/5] END ...C=4, gamma=0.001, kernel=linear;, score=0.879 total time=   0.0s\n",
            "[CV 4/5] END ...C=4, gamma=0.001, kernel=linear;, score=0.886 total time=   0.0s\n",
            "[CV 5/5] END ...C=4, gamma=0.001, kernel=linear;, score=0.921 total time=   0.0s\n",
            "[CV 1/5] END ...C=4, gamma=0.003, kernel=linear;, score=0.979 total time=   0.0s\n",
            "[CV 2/5] END ...C=4, gamma=0.003, kernel=linear;, score=0.936 total time=   0.0s\n",
            "[CV 3/5] END ...C=4, gamma=0.003, kernel=linear;, score=0.879 total time=   0.0s\n",
            "[CV 4/5] END ...C=4, gamma=0.003, kernel=linear;, score=0.886 total time=   0.0s\n",
            "[CV 5/5] END ...C=4, gamma=0.003, kernel=linear;, score=0.921 total time=   0.0s\n",
            "[CV 1/5] END .....C=5, gamma=0.2, kernel=linear;, score=0.979 total time=   0.0s\n",
            "[CV 2/5] END .....C=5, gamma=0.2, kernel=linear;, score=0.936 total time=   0.0s\n",
            "[CV 3/5] END .....C=5, gamma=0.2, kernel=linear;, score=0.879 total time=   0.0s\n",
            "[CV 4/5] END .....C=5, gamma=0.2, kernel=linear;, score=0.886 total time=   0.0s\n",
            "[CV 5/5] END .....C=5, gamma=0.2, kernel=linear;, score=0.921 total time=   0.0s\n",
            "[CV 1/5] END .......C=5, gamma=1, kernel=linear;, score=0.979 total time=   0.0s\n",
            "[CV 2/5] END .......C=5, gamma=1, kernel=linear;, score=0.936 total time=   0.0s\n",
            "[CV 3/5] END .......C=5, gamma=1, kernel=linear;, score=0.879 total time=   0.0s\n",
            "[CV 4/5] END .......C=5, gamma=1, kernel=linear;, score=0.886 total time=   0.0s\n",
            "[CV 5/5] END .......C=5, gamma=1, kernel=linear;, score=0.921 total time=   0.0s\n",
            "[CV 1/5] END .....C=5, gamma=0.4, kernel=linear;, score=0.979 total time=   0.0s\n",
            "[CV 2/5] END .....C=5, gamma=0.4, kernel=linear;, score=0.936 total time=   0.0s\n",
            "[CV 3/5] END .....C=5, gamma=0.4, kernel=linear;, score=0.879 total time=   0.0s\n",
            "[CV 4/5] END .....C=5, gamma=0.4, kernel=linear;, score=0.886 total time=   0.0s\n",
            "[CV 5/5] END .....C=5, gamma=0.4, kernel=linear;, score=0.921 total time=   0.0s\n",
            "[CV 1/5] END ...C=5, gamma=0.001, kernel=linear;, score=0.979 total time=   0.0s\n",
            "[CV 2/5] END ...C=5, gamma=0.001, kernel=linear;, score=0.936 total time=   0.0s\n",
            "[CV 3/5] END ...C=5, gamma=0.001, kernel=linear;, score=0.879 total time=   0.0s\n",
            "[CV 4/5] END ...C=5, gamma=0.001, kernel=linear;, score=0.886 total time=   0.0s\n",
            "[CV 5/5] END ...C=5, gamma=0.001, kernel=linear;, score=0.921 total time=   0.0s\n",
            "[CV 1/5] END ...C=5, gamma=0.003, kernel=linear;, score=0.979 total time=   0.0s\n",
            "[CV 2/5] END ...C=5, gamma=0.003, kernel=linear;, score=0.936 total time=   0.0s\n",
            "[CV 3/5] END ...C=5, gamma=0.003, kernel=linear;, score=0.879 total time=   0.0s\n",
            "[CV 4/5] END ...C=5, gamma=0.003, kernel=linear;, score=0.886 total time=   0.0s\n",
            "[CV 5/5] END ...C=5, gamma=0.003, kernel=linear;, score=0.921 total time=   0.0s\n",
            "[CV 1/5] END ....C=10, gamma=0.2, kernel=linear;, score=0.979 total time=   0.0s\n",
            "[CV 2/5] END ....C=10, gamma=0.2, kernel=linear;, score=0.936 total time=   0.0s\n",
            "[CV 3/5] END ....C=10, gamma=0.2, kernel=linear;, score=0.879 total time=   0.0s\n",
            "[CV 4/5] END ....C=10, gamma=0.2, kernel=linear;, score=0.886 total time=   0.0s\n",
            "[CV 5/5] END ....C=10, gamma=0.2, kernel=linear;, score=0.921 total time=   0.0s\n",
            "[CV 1/5] END ......C=10, gamma=1, kernel=linear;, score=0.979 total time=   0.0s\n",
            "[CV 2/5] END ......C=10, gamma=1, kernel=linear;, score=0.936 total time=   0.0s\n",
            "[CV 3/5] END ......C=10, gamma=1, kernel=linear;, score=0.879 total time=   0.0s\n",
            "[CV 4/5] END ......C=10, gamma=1, kernel=linear;, score=0.886 total time=   0.0s\n",
            "[CV 5/5] END ......C=10, gamma=1, kernel=linear;, score=0.921 total time=   0.0s\n",
            "[CV 1/5] END ....C=10, gamma=0.4, kernel=linear;, score=0.979 total time=   0.0s\n",
            "[CV 2/5] END ....C=10, gamma=0.4, kernel=linear;, score=0.936 total time=   0.0s\n",
            "[CV 3/5] END ....C=10, gamma=0.4, kernel=linear;, score=0.879 total time=   0.0s\n",
            "[CV 4/5] END ....C=10, gamma=0.4, kernel=linear;, score=0.886 total time=   0.0s\n",
            "[CV 5/5] END ....C=10, gamma=0.4, kernel=linear;, score=0.921 total time=   0.0s\n",
            "[CV 1/5] END ..C=10, gamma=0.001, kernel=linear;, score=0.979 total time=   0.0s\n",
            "[CV 2/5] END ..C=10, gamma=0.001, kernel=linear;, score=0.936 total time=   0.0s\n",
            "[CV 3/5] END ..C=10, gamma=0.001, kernel=linear;, score=0.879 total time=   0.0s\n",
            "[CV 4/5] END ..C=10, gamma=0.001, kernel=linear;, score=0.886 total time=   0.0s\n",
            "[CV 5/5] END ..C=10, gamma=0.001, kernel=linear;, score=0.921 total time=   0.0s\n",
            "[CV 1/5] END ..C=10, gamma=0.003, kernel=linear;, score=0.979 total time=   0.0s\n",
            "[CV 2/5] END ..C=10, gamma=0.003, kernel=linear;, score=0.936 total time=   0.0s\n",
            "[CV 3/5] END ..C=10, gamma=0.003, kernel=linear;, score=0.879 total time=   0.0s\n",
            "[CV 4/5] END ..C=10, gamma=0.003, kernel=linear;, score=0.886 total time=   0.0s\n",
            "[CV 5/5] END ..C=10, gamma=0.003, kernel=linear;, score=0.921 total time=   0.0s\n",
            "[CV 1/5] END ....C=20, gamma=0.2, kernel=linear;, score=0.979 total time=   0.0s\n",
            "[CV 2/5] END ....C=20, gamma=0.2, kernel=linear;, score=0.936 total time=   0.0s\n",
            "[CV 3/5] END ....C=20, gamma=0.2, kernel=linear;, score=0.879 total time=   0.0s\n",
            "[CV 4/5] END ....C=20, gamma=0.2, kernel=linear;, score=0.886 total time=   0.0s\n",
            "[CV 5/5] END ....C=20, gamma=0.2, kernel=linear;, score=0.921 total time=   0.0s\n",
            "[CV 1/5] END ......C=20, gamma=1, kernel=linear;, score=0.979 total time=   0.0s\n",
            "[CV 2/5] END ......C=20, gamma=1, kernel=linear;, score=0.936 total time=   0.0s\n",
            "[CV 3/5] END ......C=20, gamma=1, kernel=linear;, score=0.879 total time=   0.0s\n",
            "[CV 4/5] END ......C=20, gamma=1, kernel=linear;, score=0.886 total time=   0.0s\n",
            "[CV 5/5] END ......C=20, gamma=1, kernel=linear;, score=0.921 total time=   0.0s\n",
            "[CV 1/5] END ....C=20, gamma=0.4, kernel=linear;, score=0.979 total time=   0.0s\n",
            "[CV 2/5] END ....C=20, gamma=0.4, kernel=linear;, score=0.936 total time=   0.0s\n",
            "[CV 3/5] END ....C=20, gamma=0.4, kernel=linear;, score=0.879 total time=   0.0s\n",
            "[CV 4/5] END ....C=20, gamma=0.4, kernel=linear;, score=0.886 total time=   0.0s\n",
            "[CV 5/5] END ....C=20, gamma=0.4, kernel=linear;, score=0.921 total time=   0.0s\n",
            "[CV 1/5] END ..C=20, gamma=0.001, kernel=linear;, score=0.979 total time=   0.0s\n",
            "[CV 2/5] END ..C=20, gamma=0.001, kernel=linear;, score=0.936 total time=   0.0s\n",
            "[CV 3/5] END ..C=20, gamma=0.001, kernel=linear;, score=0.879 total time=   0.0s\n",
            "[CV 4/5] END ..C=20, gamma=0.001, kernel=linear;, score=0.886 total time=   0.0s\n",
            "[CV 5/5] END ..C=20, gamma=0.001, kernel=linear;, score=0.921 total time=   0.0s\n",
            "[CV 1/5] END ..C=20, gamma=0.003, kernel=linear;, score=0.979 total time=   0.0s\n",
            "[CV 2/5] END ..C=20, gamma=0.003, kernel=linear;, score=0.936 total time=   0.0s\n",
            "[CV 3/5] END ..C=20, gamma=0.003, kernel=linear;, score=0.879 total time=   0.0s\n",
            "[CV 4/5] END ..C=20, gamma=0.003, kernel=linear;, score=0.886 total time=   0.0s\n",
            "[CV 5/5] END ..C=20, gamma=0.003, kernel=linear;, score=0.921 total time=   0.0s\n",
            "[CV 1/5] END ....C=50, gamma=0.2, kernel=linear;, score=0.979 total time=   0.0s\n",
            "[CV 2/5] END ....C=50, gamma=0.2, kernel=linear;, score=0.936 total time=   0.0s\n",
            "[CV 3/5] END ....C=50, gamma=0.2, kernel=linear;, score=0.879 total time=   0.0s\n",
            "[CV 4/5] END ....C=50, gamma=0.2, kernel=linear;, score=0.886 total time=   0.0s\n",
            "[CV 5/5] END ....C=50, gamma=0.2, kernel=linear;, score=0.921 total time=   0.0s\n",
            "[CV 1/5] END ......C=50, gamma=1, kernel=linear;, score=0.979 total time=   0.0s\n",
            "[CV 2/5] END ......C=50, gamma=1, kernel=linear;, score=0.936 total time=   0.0s\n",
            "[CV 3/5] END ......C=50, gamma=1, kernel=linear;, score=0.879 total time=   0.0s\n",
            "[CV 4/5] END ......C=50, gamma=1, kernel=linear;, score=0.886 total time=   0.0s\n",
            "[CV 5/5] END ......C=50, gamma=1, kernel=linear;, score=0.921 total time=   0.0s\n",
            "[CV 1/5] END ....C=50, gamma=0.4, kernel=linear;, score=0.979 total time=   0.0s\n",
            "[CV 2/5] END ....C=50, gamma=0.4, kernel=linear;, score=0.936 total time=   0.0s\n",
            "[CV 3/5] END ....C=50, gamma=0.4, kernel=linear;, score=0.879 total time=   0.0s\n",
            "[CV 4/5] END ....C=50, gamma=0.4, kernel=linear;, score=0.886 total time=   0.0s\n",
            "[CV 5/5] END ....C=50, gamma=0.4, kernel=linear;, score=0.921 total time=   0.0s\n",
            "[CV 1/5] END ..C=50, gamma=0.001, kernel=linear;, score=0.979 total time=   0.0s\n",
            "[CV 2/5] END ..C=50, gamma=0.001, kernel=linear;, score=0.936 total time=   0.0s\n",
            "[CV 3/5] END ..C=50, gamma=0.001, kernel=linear;, score=0.879 total time=   0.0s\n",
            "[CV 4/5] END ..C=50, gamma=0.001, kernel=linear;, score=0.886 total time=   0.0s\n",
            "[CV 5/5] END ..C=50, gamma=0.001, kernel=linear;, score=0.921 total time=   0.0s\n",
            "[CV 1/5] END ..C=50, gamma=0.003, kernel=linear;, score=0.979 total time=   0.0s\n",
            "[CV 2/5] END ..C=50, gamma=0.003, kernel=linear;, score=0.936 total time=   0.0s\n",
            "[CV 3/5] END ..C=50, gamma=0.003, kernel=linear;, score=0.879 total time=   0.0s\n",
            "[CV 4/5] END ..C=50, gamma=0.003, kernel=linear;, score=0.886 total time=   0.0s\n",
            "[CV 5/5] END ..C=50, gamma=0.003, kernel=linear;, score=0.921 total time=   0.0s\n",
            "[CV 1/5] END ...C=100, gamma=0.2, kernel=linear;, score=0.979 total time=   0.0s\n",
            "[CV 2/5] END ...C=100, gamma=0.2, kernel=linear;, score=0.936 total time=   0.0s\n",
            "[CV 3/5] END ...C=100, gamma=0.2, kernel=linear;, score=0.879 total time=   0.0s\n",
            "[CV 4/5] END ...C=100, gamma=0.2, kernel=linear;, score=0.886 total time=   0.0s\n",
            "[CV 5/5] END ...C=100, gamma=0.2, kernel=linear;, score=0.921 total time=   0.0s\n",
            "[CV 1/5] END .....C=100, gamma=1, kernel=linear;, score=0.979 total time=   0.0s\n",
            "[CV 2/5] END .....C=100, gamma=1, kernel=linear;, score=0.936 total time=   0.0s\n",
            "[CV 3/5] END .....C=100, gamma=1, kernel=linear;, score=0.879 total time=   0.0s\n",
            "[CV 4/5] END .....C=100, gamma=1, kernel=linear;, score=0.886 total time=   0.0s\n",
            "[CV 5/5] END .....C=100, gamma=1, kernel=linear;, score=0.921 total time=   0.0s\n",
            "[CV 1/5] END ...C=100, gamma=0.4, kernel=linear;, score=0.979 total time=   0.0s\n",
            "[CV 2/5] END ...C=100, gamma=0.4, kernel=linear;, score=0.936 total time=   0.0s\n",
            "[CV 3/5] END ...C=100, gamma=0.4, kernel=linear;, score=0.879 total time=   0.0s\n",
            "[CV 4/5] END ...C=100, gamma=0.4, kernel=linear;, score=0.886 total time=   0.0s\n",
            "[CV 5/5] END ...C=100, gamma=0.4, kernel=linear;, score=0.921 total time=   0.0s\n",
            "[CV 1/5] END .C=100, gamma=0.001, kernel=linear;, score=0.979 total time=   0.0s\n",
            "[CV 2/5] END .C=100, gamma=0.001, kernel=linear;, score=0.936 total time=   0.0s\n",
            "[CV 3/5] END .C=100, gamma=0.001, kernel=linear;, score=0.879 total time=   0.0s\n",
            "[CV 4/5] END .C=100, gamma=0.001, kernel=linear;, score=0.886 total time=   0.0s\n",
            "[CV 5/5] END .C=100, gamma=0.001, kernel=linear;, score=0.921 total time=   0.0s\n",
            "[CV 1/5] END .C=100, gamma=0.003, kernel=linear;, score=0.979 total time=   0.0s\n",
            "[CV 2/5] END .C=100, gamma=0.003, kernel=linear;, score=0.936 total time=   0.0s\n",
            "[CV 3/5] END .C=100, gamma=0.003, kernel=linear;, score=0.879 total time=   0.0s\n",
            "[CV 4/5] END .C=100, gamma=0.003, kernel=linear;, score=0.886 total time=   0.0s\n",
            "[CV 5/5] END .C=100, gamma=0.003, kernel=linear;, score=0.921 total time=   0.0s\n"
          ]
        },
        {
          "output_type": "execute_result",
          "data": {
            "text/plain": [
              "GridSearchCV(cv=5, estimator=SVC(kernel='linear'),\n",
              "             param_grid={'C': [1, 2, 3, 4, 5, 10, 20, 50, 100],\n",
              "                         'gamma': [0.2, 1, 0.4, 0.001, 0.003],\n",
              "                         'kernel': ['linear']},\n",
              "             verbose=3)"
            ],
            "text/html": [
              "<style>#sk-container-id-11 {color: black;}#sk-container-id-11 pre{padding: 0;}#sk-container-id-11 div.sk-toggleable {background-color: white;}#sk-container-id-11 label.sk-toggleable__label {cursor: pointer;display: block;width: 100%;margin-bottom: 0;padding: 0.3em;box-sizing: border-box;text-align: center;}#sk-container-id-11 label.sk-toggleable__label-arrow:before {content: \"▸\";float: left;margin-right: 0.25em;color: #696969;}#sk-container-id-11 label.sk-toggleable__label-arrow:hover:before {color: black;}#sk-container-id-11 div.sk-estimator:hover label.sk-toggleable__label-arrow:before {color: black;}#sk-container-id-11 div.sk-toggleable__content {max-height: 0;max-width: 0;overflow: hidden;text-align: left;background-color: #f0f8ff;}#sk-container-id-11 div.sk-toggleable__content pre {margin: 0.2em;color: black;border-radius: 0.25em;background-color: #f0f8ff;}#sk-container-id-11 input.sk-toggleable__control:checked~div.sk-toggleable__content {max-height: 200px;max-width: 100%;overflow: auto;}#sk-container-id-11 input.sk-toggleable__control:checked~label.sk-toggleable__label-arrow:before {content: \"▾\";}#sk-container-id-11 div.sk-estimator input.sk-toggleable__control:checked~label.sk-toggleable__label {background-color: #d4ebff;}#sk-container-id-11 div.sk-label input.sk-toggleable__control:checked~label.sk-toggleable__label {background-color: #d4ebff;}#sk-container-id-11 input.sk-hidden--visually {border: 0;clip: rect(1px 1px 1px 1px);clip: rect(1px, 1px, 1px, 1px);height: 1px;margin: -1px;overflow: hidden;padding: 0;position: absolute;width: 1px;}#sk-container-id-11 div.sk-estimator {font-family: monospace;background-color: #f0f8ff;border: 1px dotted black;border-radius: 0.25em;box-sizing: border-box;margin-bottom: 0.5em;}#sk-container-id-11 div.sk-estimator:hover {background-color: #d4ebff;}#sk-container-id-11 div.sk-parallel-item::after {content: \"\";width: 100%;border-bottom: 1px solid gray;flex-grow: 1;}#sk-container-id-11 div.sk-label:hover label.sk-toggleable__label {background-color: #d4ebff;}#sk-container-id-11 div.sk-serial::before {content: \"\";position: absolute;border-left: 1px solid gray;box-sizing: border-box;top: 0;bottom: 0;left: 50%;z-index: 0;}#sk-container-id-11 div.sk-serial {display: flex;flex-direction: column;align-items: center;background-color: white;padding-right: 0.2em;padding-left: 0.2em;position: relative;}#sk-container-id-11 div.sk-item {position: relative;z-index: 1;}#sk-container-id-11 div.sk-parallel {display: flex;align-items: stretch;justify-content: center;background-color: white;position: relative;}#sk-container-id-11 div.sk-item::before, #sk-container-id-11 div.sk-parallel-item::before {content: \"\";position: absolute;border-left: 1px solid gray;box-sizing: border-box;top: 0;bottom: 0;left: 50%;z-index: -1;}#sk-container-id-11 div.sk-parallel-item {display: flex;flex-direction: column;z-index: 1;position: relative;background-color: white;}#sk-container-id-11 div.sk-parallel-item:first-child::after {align-self: flex-end;width: 50%;}#sk-container-id-11 div.sk-parallel-item:last-child::after {align-self: flex-start;width: 50%;}#sk-container-id-11 div.sk-parallel-item:only-child::after {width: 0;}#sk-container-id-11 div.sk-dashed-wrapped {border: 1px dashed gray;margin: 0 0.4em 0.5em 0.4em;box-sizing: border-box;padding-bottom: 0.4em;background-color: white;}#sk-container-id-11 div.sk-label label {font-family: monospace;font-weight: bold;display: inline-block;line-height: 1.2em;}#sk-container-id-11 div.sk-label-container {text-align: center;}#sk-container-id-11 div.sk-container {/* jupyter's `normalize.less` sets `[hidden] { display: none; }` but bootstrap.min.css set `[hidden] { display: none !important; }` so we also need the `!important` here to be able to override the default hidden behavior on the sphinx rendered scikit-learn.org. See: https://github.com/scikit-learn/scikit-learn/issues/21755 */display: inline-block !important;position: relative;}#sk-container-id-11 div.sk-text-repr-fallback {display: none;}</style><div id=\"sk-container-id-11\" class=\"sk-top-container\"><div class=\"sk-text-repr-fallback\"><pre>GridSearchCV(cv=5, estimator=SVC(kernel=&#x27;linear&#x27;),\n",
              "             param_grid={&#x27;C&#x27;: [1, 2, 3, 4, 5, 10, 20, 50, 100],\n",
              "                         &#x27;gamma&#x27;: [0.2, 1, 0.4, 0.001, 0.003],\n",
              "                         &#x27;kernel&#x27;: [&#x27;linear&#x27;]},\n",
              "             verbose=3)</pre><b>In a Jupyter environment, please rerun this cell to show the HTML representation or trust the notebook. <br />On GitHub, the HTML representation is unable to render, please try loading this page with nbviewer.org.</b></div><div class=\"sk-container\" hidden><div class=\"sk-item sk-dashed-wrapped\"><div class=\"sk-label-container\"><div class=\"sk-label sk-toggleable\"><input class=\"sk-toggleable__control sk-hidden--visually\" id=\"sk-estimator-id-23\" type=\"checkbox\" ><label for=\"sk-estimator-id-23\" class=\"sk-toggleable__label sk-toggleable__label-arrow\">GridSearchCV</label><div class=\"sk-toggleable__content\"><pre>GridSearchCV(cv=5, estimator=SVC(kernel=&#x27;linear&#x27;),\n",
              "             param_grid={&#x27;C&#x27;: [1, 2, 3, 4, 5, 10, 20, 50, 100],\n",
              "                         &#x27;gamma&#x27;: [0.2, 1, 0.4, 0.001, 0.003],\n",
              "                         &#x27;kernel&#x27;: [&#x27;linear&#x27;]},\n",
              "             verbose=3)</pre></div></div></div><div class=\"sk-parallel\"><div class=\"sk-parallel-item\"><div class=\"sk-item\"><div class=\"sk-label-container\"><div class=\"sk-label sk-toggleable\"><input class=\"sk-toggleable__control sk-hidden--visually\" id=\"sk-estimator-id-24\" type=\"checkbox\" ><label for=\"sk-estimator-id-24\" class=\"sk-toggleable__label sk-toggleable__label-arrow\">estimator: SVC</label><div class=\"sk-toggleable__content\"><pre>SVC(kernel=&#x27;linear&#x27;)</pre></div></div></div><div class=\"sk-serial\"><div class=\"sk-item\"><div class=\"sk-estimator sk-toggleable\"><input class=\"sk-toggleable__control sk-hidden--visually\" id=\"sk-estimator-id-25\" type=\"checkbox\" ><label for=\"sk-estimator-id-25\" class=\"sk-toggleable__label sk-toggleable__label-arrow\">SVC</label><div class=\"sk-toggleable__content\"><pre>SVC(kernel=&#x27;linear&#x27;)</pre></div></div></div></div></div></div></div></div></div></div>"
            ]
          },
          "metadata": {},
          "execution_count": 57
        }
      ]
    },
    {
      "cell_type": "code",
      "source": [
        "grid.best_params_"
      ],
      "metadata": {
        "colab": {
          "base_uri": "https://localhost:8080/"
        },
        "id": "TgJwLk7t4qRL",
        "outputId": "0ebbb809-9957-4e69-9f35-771411dc1220"
      },
      "execution_count": 58,
      "outputs": [
        {
          "output_type": "execute_result",
          "data": {
            "text/plain": [
              "{'C': 1, 'gamma': 0.2, 'kernel': 'linear'}"
            ]
          },
          "metadata": {},
          "execution_count": 58
        }
      ]
    },
    {
      "cell_type": "code",
      "source": [
        "grid.best_score_"
      ],
      "metadata": {
        "colab": {
          "base_uri": "https://localhost:8080/"
        },
        "id": "rOXVmbQX5GNA",
        "outputId": "5970fcc6-a183-4efa-cd73-73a747df59b7"
      },
      "execution_count": 59,
      "outputs": [
        {
          "output_type": "execute_result",
          "data": {
            "text/plain": [
              "0.9199999999999999"
            ]
          },
          "metadata": {},
          "execution_count": 59
        }
      ]
    }
  ]
}